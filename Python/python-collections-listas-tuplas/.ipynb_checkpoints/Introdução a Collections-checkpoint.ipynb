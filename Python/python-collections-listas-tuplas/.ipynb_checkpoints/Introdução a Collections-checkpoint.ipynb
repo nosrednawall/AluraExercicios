{
 "cells": [
  {
   "cell_type": "code",
   "execution_count": 3,
   "id": "05a090eb",
   "metadata": {},
   "outputs": [
    {
     "name": "stdout",
     "output_type": "stream",
     "text": [
      "39\n",
      "30\n",
      "27\n",
      "18\n"
     ]
    }
   ],
   "source": [
    "idade1 = 39\n",
    "idade2 = 30\n",
    "idade3 = 27\n",
    "idade4 = 18\n",
    "\n",
    "print(idade1)\n",
    "print(idade2)\n",
    "print(idade3)\n",
    "print(idade4)"
   ]
  },
  {
   "cell_type": "code",
   "execution_count": 4,
   "id": "bd71de38",
   "metadata": {},
   "outputs": [],
   "source": [
    "idades = [39, 30, 27, 18]"
   ]
  },
  {
   "cell_type": "code",
   "execution_count": 6,
   "id": "420277e5",
   "metadata": {},
   "outputs": [
    {
     "data": {
      "text/plain": [
       "list"
      ]
     },
     "execution_count": 6,
     "metadata": {},
     "output_type": "execute_result"
    }
   ],
   "source": [
    "type(idades)"
   ]
  },
  {
   "cell_type": "code",
   "execution_count": 7,
   "id": "7c43174a",
   "metadata": {},
   "outputs": [
    {
     "data": {
      "text/plain": [
       "[39, 30, 27, 18]"
      ]
     },
     "execution_count": 7,
     "metadata": {},
     "output_type": "execute_result"
    }
   ],
   "source": [
    "idades"
   ]
  },
  {
   "cell_type": "code",
   "execution_count": 8,
   "id": "79cb9c6b",
   "metadata": {},
   "outputs": [
    {
     "data": {
      "text/plain": [
       "27"
      ]
     },
     "execution_count": 8,
     "metadata": {},
     "output_type": "execute_result"
    }
   ],
   "source": [
    "idades[2]"
   ]
  },
  {
   "cell_type": "code",
   "execution_count": 9,
   "id": "6f460123",
   "metadata": {},
   "outputs": [
    {
     "name": "stdout",
     "output_type": "stream",
     "text": [
      "39\n",
      "30\n",
      "27\n",
      "18\n"
     ]
    }
   ],
   "source": [
    "for idad in idades:\n",
    "    print(idad)\n",
    "    "
   ]
  },
  {
   "cell_type": "code",
   "execution_count": 11,
   "id": "b8c7a8f3",
   "metadata": {},
   "outputs": [],
   "source": [
    "idades.append(60)"
   ]
  },
  {
   "cell_type": "code",
   "execution_count": 12,
   "id": "6c5423ab",
   "metadata": {},
   "outputs": [
    {
     "data": {
      "text/plain": [
       "[39, 30, 27, 18, 60]"
      ]
     },
     "execution_count": 12,
     "metadata": {},
     "output_type": "execute_result"
    }
   ],
   "source": [
    "idades"
   ]
  },
  {
   "cell_type": "code",
   "execution_count": 13,
   "id": "0474536e",
   "metadata": {},
   "outputs": [],
   "source": [
    "idades.append(27)\n"
   ]
  },
  {
   "cell_type": "code",
   "execution_count": 14,
   "id": "0556d957",
   "metadata": {},
   "outputs": [
    {
     "data": {
      "text/plain": [
       "[39, 30, 27, 18, 60, 27]"
      ]
     },
     "execution_count": 14,
     "metadata": {},
     "output_type": "execute_result"
    }
   ],
   "source": [
    "idades\n"
   ]
  },
  {
   "cell_type": "code",
   "execution_count": 15,
   "id": "aa0f177c",
   "metadata": {},
   "outputs": [],
   "source": [
    "idades.remove(27)"
   ]
  },
  {
   "cell_type": "code",
   "execution_count": 16,
   "id": "fbf5bdb9",
   "metadata": {},
   "outputs": [
    {
     "data": {
      "text/plain": [
       "[39, 30, 18, 60, 27]"
      ]
     },
     "execution_count": 16,
     "metadata": {},
     "output_type": "execute_result"
    }
   ],
   "source": [
    "idades"
   ]
  },
  {
   "cell_type": "code",
   "execution_count": 17,
   "id": "1b48a986",
   "metadata": {},
   "outputs": [],
   "source": [
    "idades.clear()"
   ]
  },
  {
   "cell_type": "code",
   "execution_count": 18,
   "id": "147f0304",
   "metadata": {},
   "outputs": [
    {
     "data": {
      "text/plain": [
       "[]"
      ]
     },
     "execution_count": 18,
     "metadata": {},
     "output_type": "execute_result"
    }
   ],
   "source": [
    "idades\n"
   ]
  },
  {
   "cell_type": "code",
   "execution_count": 19,
   "id": "7fd916e2",
   "metadata": {},
   "outputs": [
    {
     "data": {
      "text/plain": [
       "False"
      ]
     },
     "execution_count": 19,
     "metadata": {},
     "output_type": "execute_result"
    }
   ],
   "source": [
    "28 in idades"
   ]
  },
  {
   "cell_type": "code",
   "execution_count": 20,
   "id": "ce1a2ee0",
   "metadata": {},
   "outputs": [],
   "source": [
    "idades = [39, 30, 18, 60, 27]"
   ]
  },
  {
   "cell_type": "code",
   "execution_count": 21,
   "id": "cd4ba71a",
   "metadata": {},
   "outputs": [
    {
     "data": {
      "text/plain": [
       "True"
      ]
     },
     "execution_count": 21,
     "metadata": {},
     "output_type": "execute_result"
    }
   ],
   "source": [
    "60 in idades"
   ]
  },
  {
   "cell_type": "code",
   "execution_count": 22,
   "id": "e204d689",
   "metadata": {},
   "outputs": [],
   "source": [
    "idades.insert(0, 20)"
   ]
  },
  {
   "cell_type": "code",
   "execution_count": 23,
   "id": "12417ed3",
   "metadata": {},
   "outputs": [
    {
     "data": {
      "text/plain": [
       "[20, 39, 30, 18, 60, 27]"
      ]
     },
     "execution_count": 23,
     "metadata": {},
     "output_type": "execute_result"
    }
   ],
   "source": [
    "idades"
   ]
  },
  {
   "cell_type": "code",
   "execution_count": 26,
   "id": "a3f1449b",
   "metadata": {},
   "outputs": [],
   "source": [
    "idades.extend([90,22,29,23])"
   ]
  },
  {
   "cell_type": "code",
   "execution_count": 27,
   "id": "bcef857b",
   "metadata": {},
   "outputs": [
    {
     "data": {
      "text/plain": [
       "[20, 39, 30, 18, 60, 27, 90, 22, 29, 23]"
      ]
     },
     "execution_count": 27,
     "metadata": {},
     "output_type": "execute_result"
    }
   ],
   "source": [
    "idades"
   ]
  },
  {
   "cell_type": "code",
   "execution_count": 28,
   "id": "306e0d1f",
   "metadata": {},
   "outputs": [
    {
     "data": {
      "text/plain": [
       "[21, 40, 31, 19, 61, 28, 91, 23, 30, 24]"
      ]
     },
     "execution_count": 28,
     "metadata": {},
     "output_type": "execute_result"
    }
   ],
   "source": [
    "idades_no_ano_que_vem = []\n",
    "for idade in idades:\n",
    "    idades_no_ano_que_vem.append(idade+1)\n",
    "idades_no_ano_que_vem"
   ]
  },
  {
   "cell_type": "code",
   "execution_count": 29,
   "id": "7c2e354b",
   "metadata": {},
   "outputs": [
    {
     "data": {
      "text/plain": [
       "[40, 31, 61, 28, 91, 23, 30, 24]"
      ]
     },
     "execution_count": 29,
     "metadata": {},
     "output_type": "execute_result"
    }
   ],
   "source": [
    "[idade + 1 for idade in idades if idade > 21]"
   ]
  },
  {
   "cell_type": "code",
   "execution_count": 31,
   "id": "fa4478f8",
   "metadata": {},
   "outputs": [
    {
     "data": {
      "text/plain": [
       "[40, 31, 61, 28, 91, 23, 30, 24]"
      ]
     },
     "execution_count": 31,
     "metadata": {},
     "output_type": "execute_result"
    }
   ],
   "source": [
    "def proximo_ano(idade):\n",
    "  return idade+1\n",
    "\n",
    "[proximo_ano(idade) for idade in idades if idade > 21]"
   ]
  },
  {
   "cell_type": "code",
   "execution_count": 32,
   "id": "972205e3",
   "metadata": {},
   "outputs": [
    {
     "data": {
      "text/plain": [
       "1"
      ]
     },
     "execution_count": 32,
     "metadata": {},
     "output_type": "execute_result"
    }
   ],
   "source": [
    "3 % 2\n"
   ]
  },
  {
   "cell_type": "code",
   "execution_count": 33,
   "id": "2ab947a7",
   "metadata": {},
   "outputs": [
    {
     "data": {
      "text/plain": [
       "0"
      ]
     },
     "execution_count": 33,
     "metadata": {},
     "output_type": "execute_result"
    }
   ],
   "source": [
    "2 % 2"
   ]
  },
  {
   "cell_type": "code",
   "execution_count": 34,
   "id": "ffd9658a",
   "metadata": {},
   "outputs": [
    {
     "data": {
      "text/plain": [
       "0"
      ]
     },
     "execution_count": 34,
     "metadata": {},
     "output_type": "execute_result"
    }
   ],
   "source": [
    "4 % 2"
   ]
  },
  {
   "cell_type": "code",
   "execution_count": null,
   "id": "74a3217a",
   "metadata": {},
   "outputs": [],
   "source": []
  }
 ],
 "metadata": {
  "kernelspec": {
   "display_name": "Python 3 (ipykernel)",
   "language": "python",
   "name": "python3"
  },
  "language_info": {
   "codemirror_mode": {
    "name": "ipython",
    "version": 3
   },
   "file_extension": ".py",
   "mimetype": "text/x-python",
   "name": "python",
   "nbconvert_exporter": "python",
   "pygments_lexer": "ipython3",
   "version": "3.10.8"
  }
 },
 "nbformat": 4,
 "nbformat_minor": 5
}
